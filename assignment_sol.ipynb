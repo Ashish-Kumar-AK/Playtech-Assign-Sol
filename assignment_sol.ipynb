{
  "nbformat": 4,
  "nbformat_minor": 0,
  "metadata": {
    "colab": {
      "name": "Untitled45.ipynb",
      "provenance": []
    },
    "kernelspec": {
      "name": "python3",
      "display_name": "Python 3"
    },
    "language_info": {
      "name": "python"
    }
  },
  "cells": [
    {
      "cell_type": "code",
      "execution_count": 37,
      "metadata": {
        "id": "iG-cy63zzytx"
      },
      "outputs": [],
      "source": [
        "import pandas as pd\n",
        "#read the csv file as a dataframe\n",
        "input_dataframe=pd.read_csv('Sample_input_data.csv')"
      ]
    },
    {
      "cell_type": "code",
      "source": [
        "#display the sample data\n",
        "input_dataframe"
      ],
      "metadata": {
        "colab": {
          "base_uri": "https://localhost:8080/",
          "height": 424
        },
        "id": "_yxY_xnP0TAr",
        "outputId": "27038641-cefb-4776-f76f-da873db9f3f2"
      },
      "execution_count": 38,
      "outputs": [
        {
          "output_type": "execute_result",
          "data": {
            "text/html": [
              "<div>\n",
              "<style scoped>\n",
              "    .dataframe tbody tr th:only-of-type {\n",
              "        vertical-align: middle;\n",
              "    }\n",
              "\n",
              "    .dataframe tbody tr th {\n",
              "        vertical-align: top;\n",
              "    }\n",
              "\n",
              "    .dataframe thead th {\n",
              "        text-align: right;\n",
              "    }\n",
              "</style>\n",
              "<table border=\"1\" class=\"dataframe\">\n",
              "  <thead>\n",
              "    <tr style=\"text-align: right;\">\n",
              "      <th></th>\n",
              "      <th>id</th>\n",
              "      <th>player_id</th>\n",
              "      <th>type</th>\n",
              "      <th>amount</th>\n",
              "      <th>game_name</th>\n",
              "    </tr>\n",
              "  </thead>\n",
              "  <tbody>\n",
              "    <tr>\n",
              "      <th>0</th>\n",
              "      <td>1</td>\n",
              "      <td>5000</td>\n",
              "      <td>bet</td>\n",
              "      <td>178.64</td>\n",
              "      <td>poker</td>\n",
              "    </tr>\n",
              "    <tr>\n",
              "      <th>1</th>\n",
              "      <td>2</td>\n",
              "      <td>52364</td>\n",
              "      <td>bet</td>\n",
              "      <td>441.49</td>\n",
              "      <td>poker</td>\n",
              "    </tr>\n",
              "    <tr>\n",
              "      <th>2</th>\n",
              "      <td>3</td>\n",
              "      <td>75698413</td>\n",
              "      <td>bet</td>\n",
              "      <td>325.18</td>\n",
              "      <td>poker</td>\n",
              "    </tr>\n",
              "    <tr>\n",
              "      <th>3</th>\n",
              "      <td>4</td>\n",
              "      <td>8642198</td>\n",
              "      <td>bet</td>\n",
              "      <td>400.05</td>\n",
              "      <td>blackjack</td>\n",
              "    </tr>\n",
              "    <tr>\n",
              "      <th>4</th>\n",
              "      <td>5</td>\n",
              "      <td>5000</td>\n",
              "      <td>win</td>\n",
              "      <td>239.56</td>\n",
              "      <td>roulette</td>\n",
              "    </tr>\n",
              "    <tr>\n",
              "      <th>...</th>\n",
              "      <td>...</td>\n",
              "      <td>...</td>\n",
              "      <td>...</td>\n",
              "      <td>...</td>\n",
              "      <td>...</td>\n",
              "    </tr>\n",
              "    <tr>\n",
              "      <th>1001</th>\n",
              "      <td>1002</td>\n",
              "      <td>951753</td>\n",
              "      <td>bet</td>\n",
              "      <td>466.82</td>\n",
              "      <td>blackjack</td>\n",
              "    </tr>\n",
              "    <tr>\n",
              "      <th>1002</th>\n",
              "      <td>1003</td>\n",
              "      <td>654789</td>\n",
              "      <td>bet</td>\n",
              "      <td>376.74</td>\n",
              "      <td>blackjack</td>\n",
              "    </tr>\n",
              "    <tr>\n",
              "      <th>1003</th>\n",
              "      <td>1004</td>\n",
              "      <td>951753</td>\n",
              "      <td>bet</td>\n",
              "      <td>72.28</td>\n",
              "      <td>blackjack</td>\n",
              "    </tr>\n",
              "    <tr>\n",
              "      <th>1004</th>\n",
              "      <td>1005</td>\n",
              "      <td>654789</td>\n",
              "      <td>bet</td>\n",
              "      <td>102.53</td>\n",
              "      <td>blackjack</td>\n",
              "    </tr>\n",
              "    <tr>\n",
              "      <th>1005</th>\n",
              "      <td>1006</td>\n",
              "      <td>951753</td>\n",
              "      <td>bet</td>\n",
              "      <td>372.57</td>\n",
              "      <td>roulette</td>\n",
              "    </tr>\n",
              "  </tbody>\n",
              "</table>\n",
              "<p>1006 rows × 5 columns</p>\n",
              "</div>"
            ],
            "text/plain": [
              "        id  player_id type  amount  game_name\n",
              "0        1       5000  bet  178.64      poker\n",
              "1        2      52364  bet  441.49      poker\n",
              "2        3   75698413  bet  325.18      poker\n",
              "3        4    8642198  bet  400.05  blackjack\n",
              "4        5       5000  win  239.56   roulette\n",
              "...    ...        ...  ...     ...        ...\n",
              "1001  1002     951753  bet  466.82  blackjack\n",
              "1002  1003     654789  bet  376.74  blackjack\n",
              "1003  1004     951753  bet   72.28  blackjack\n",
              "1004  1005     654789  bet  102.53  blackjack\n",
              "1005  1006     951753  bet  372.57   roulette\n",
              "\n",
              "[1006 rows x 5 columns]"
            ]
          },
          "metadata": {},
          "execution_count": 38
        }
      ]
    },
    {
      "cell_type": "code",
      "source": [
        "#change the amount column according to the type column (i.e if player has win it's counted as loss for casino)\n",
        "input_dataframe.loc[input_dataframe.type=='win','amount']=-1*input_dataframe['amount']"
      ],
      "metadata": {
        "id": "hBYk2Lg-0V1M"
      },
      "execution_count": 39,
      "outputs": []
    },
    {
      "cell_type": "code",
      "source": [
        "#update the amount with the ante value according to the game played (i.e poker --> amount+2, blackjack --> amount+1) \n",
        "input_dataframe.loc[input_dataframe.game_name=='poker','amount']=input_dataframe['amount']+2\n",
        "input_dataframe.loc[input_dataframe.game_name=='blackjack','amount']=input_dataframe['amount']+1"
      ],
      "metadata": {
        "id": "lP-xp3Cu6Gs4"
      },
      "execution_count": 40,
      "outputs": []
    },
    {
      "cell_type": "code",
      "source": [
        "#remove unneccesary columns from the dataframe (pre-processing task)\n",
        "clean_input_dataframe=input_dataframe[['player_id','amount']].copy()"
      ],
      "metadata": {
        "id": "RwkUm-ph6lW5"
      },
      "execution_count": 41,
      "outputs": []
    },
    {
      "cell_type": "code",
      "source": [
        "#create a pivot table to show the individual player's contribution in casino's profit amount\n",
        "casino_profit_table = clean_input_dataframe.pivot_table(index =['player_id'],\n",
        "                       values =['amount'],\n",
        "                       aggfunc ='sum')"
      ],
      "metadata": {
        "id": "wAb875AL7Lxw"
      },
      "execution_count": 42,
      "outputs": []
    },
    {
      "cell_type": "code",
      "source": [
        "#convert the pivot table into dataframe and add a new column which displays the individual player's contribution in casino's profit amount in percentage\n",
        "casino_profit_dataframe=pd.DataFrame(data=casino_profit_table)\n",
        "casino_profit_dataframe['profit_in_perc']=(casino_profit_dataframe['amount']/casino_profit_dataframe['amount'].sum())*100"
      ],
      "metadata": {
        "id": "A-423MGb7mRp"
      },
      "execution_count": 43,
      "outputs": []
    },
    {
      "cell_type": "code",
      "source": [
        "#sort the dataframe in descending order according to percentage of contribution in total profit by individual player \n",
        "sorted_casino_profit_dataframe=casino_profit_dataframe.sort_values(by=['profit_in_perc'],ascending=False)"
      ],
      "metadata": {
        "id": "bEQ5EOE18s7g"
      },
      "execution_count": 44,
      "outputs": []
    },
    {
      "cell_type": "code",
      "source": [
        "#display the top 10% of the total players which were most profitable for the casino\n",
        "sorted_casino_profit_dataframe[:int(len(df4)/10)]"
      ],
      "metadata": {
        "colab": {
          "base_uri": "https://localhost:8080/",
          "height": 175
        },
        "id": "vj4xy4V28_G8",
        "outputId": "59a5501a-3ca9-46fe-f586-28d47d754723"
      },
      "execution_count": 45,
      "outputs": [
        {
          "output_type": "execute_result",
          "data": {
            "text/html": [
              "<div>\n",
              "<style scoped>\n",
              "    .dataframe tbody tr th:only-of-type {\n",
              "        vertical-align: middle;\n",
              "    }\n",
              "\n",
              "    .dataframe tbody tr th {\n",
              "        vertical-align: top;\n",
              "    }\n",
              "\n",
              "    .dataframe thead th {\n",
              "        text-align: right;\n",
              "    }\n",
              "</style>\n",
              "<table border=\"1\" class=\"dataframe\">\n",
              "  <thead>\n",
              "    <tr style=\"text-align: right;\">\n",
              "      <th></th>\n",
              "      <th>amount</th>\n",
              "      <th>profit_in_perc</th>\n",
              "    </tr>\n",
              "    <tr>\n",
              "      <th>player_id</th>\n",
              "      <th></th>\n",
              "      <th></th>\n",
              "    </tr>\n",
              "  </thead>\n",
              "  <tbody>\n",
              "    <tr>\n",
              "      <th>980444</th>\n",
              "      <td>18556.27</td>\n",
              "      <td>11.988653</td>\n",
              "    </tr>\n",
              "    <tr>\n",
              "      <th>52364</th>\n",
              "      <td>14105.59</td>\n",
              "      <td>9.113201</td>\n",
              "    </tr>\n",
              "    <tr>\n",
              "      <th>8691338</th>\n",
              "      <td>10560.70</td>\n",
              "      <td>6.822954</td>\n",
              "    </tr>\n",
              "  </tbody>\n",
              "</table>\n",
              "</div>"
            ],
            "text/plain": [
              "             amount  profit_in_perc\n",
              "player_id                          \n",
              "980444     18556.27       11.988653\n",
              "52364      14105.59        9.113201\n",
              "8691338    10560.70        6.822954"
            ]
          },
          "metadata": {},
          "execution_count": 45
        }
      ]
    }
  ]
}